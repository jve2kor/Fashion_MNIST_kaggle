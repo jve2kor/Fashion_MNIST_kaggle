{
 "cells": [
  {
   "cell_type": "code",
   "execution_count": 1,
   "metadata": {},
   "outputs": [
    {
     "name": "stderr",
     "output_type": "stream",
     "text": [
      "Using TensorFlow backend.\n"
     ]
    },
    {
     "name": "stdout",
     "output_type": "stream",
     "text": [
      "x_train shape: (60000, 28, 28, 1)\n",
      "60000 train samples\n",
      "10000 test samples\n"
     ]
    }
   ],
   "source": [
    "''''Trains a simple convnet on the MNIST dataset.\n",
    "Gets to 99.25% test accuracy after 12 epochs\n",
    "(there is still a lot of margin for parameter tuning).\n",
    "16 seconds per epoch on a GRID K520 GPU'''\n",
    "\n",
    "#python 2/3 compatibility\n",
    "from __future__ import print_function\n",
    "#simplified interface for building models\n",
    "import keras\n",
    "#our handwritten character labeled dataset\n",
    "from keras.datasets import mnist\n",
    "#because our models are simple\n",
    "from keras.models import Sequential\n",
    "#dense means fully connected layers, dropout is a technique to improve convergence, flatten to reshape our matrices for feeding\n",
    "#into respective layers\n",
    "from keras.layers import Dense, Dropout, Flatten\n",
    "#for convolution (images) and pooling is a technique to help choose the most relevant features in an image\n",
    "from keras.layers import Conv2D, MaxPooling2D,ZeroPadding2D,Convolution2D,MaxPooling2D\n",
    "from keras import backend as K\n",
    "\n",
    "#mini batch gradient descent ftw\n",
    "batch_size = 512\n",
    "#10 difference characters\n",
    "num_classes = 10\n",
    "#very short training time\n",
    "epochs = 12\n",
    "#epochs = 12\n",
    "# input image dimensions\n",
    "#28x28 pixel images.\n",
    "img_rows, img_cols = 28, 28\n",
    "\n",
    "# the data downloaded, shuffled and split between train and test sets\n",
    "#if only all datasets were this easy to import and format\n",
    "(x_train, y_train), (x_test, y_test) = mnist.load_data()\n",
    "\n",
    "#this assumes our data format\n",
    "#For 3D data, \"channels_last\" assumes (conv_dim1, conv_dim2, conv_dim3, channels) while\n",
    "#\"channels_first\" assumes (channels, conv_dim1, conv_dim2, conv_dim3).\n",
    "if K.image_data_format() == 'channels_first':\n",
    "    x_train = x_train.reshape(x_train.shape[0], 1, img_rows, img_cols)\n",
    "    x_test = x_test.reshape(x_test.shape[0], 1, img_rows, img_cols)\n",
    "    input_shape = (1, img_rows, img_cols)\n",
    "else:\n",
    "    x_train = x_train.reshape(x_train.shape[0], img_rows, img_cols, 1)\n",
    "    x_test = x_test.reshape(x_test.shape[0], img_rows, img_cols, 1)\n",
    "    input_shape = (img_rows, img_cols, 1)\n",
    "\n",
    "#more reshaping\n",
    "x_train = x_train.astype('float32')\n",
    "x_test = x_test.astype('float32')\n",
    "x_train /= 255\n",
    "x_test /= 255\n",
    "print('x_train shape:', x_train.shape)\n",
    "print(x_train.shape[0], 'train samples')\n",
    "print(x_test.shape[0], 'test samples')\n",
    "\n",
    "# convert class vectors to binary class matrices\n",
    "y_train = keras.utils.to_categorical(y_train, num_classes)\n",
    "y_test = keras.utils.to_categorical(y_test, num_classes)\n",
    "\n"
   ]
  },
  {
   "cell_type": "code",
   "execution_count": 4,
   "metadata": {},
   "outputs": [
    {
     "name": "stdout",
     "output_type": "stream",
     "text": [
      "Train on 60000 samples, validate on 10000 samples\n",
      "Epoch 1/12\n",
      "60000/60000 [==============================] - 20s - loss: 1.1111 - acc: 0.6289 - val_loss: 0.1775 - val_acc: 0.9438\n",
      "Epoch 2/12\n",
      "60000/60000 [==============================] - 19s - loss: 0.1512 - acc: 0.9545 - val_loss: 0.1067 - val_acc: 0.9674\n",
      "Epoch 3/12\n",
      "60000/60000 [==============================] - 19s - loss: 0.0853 - acc: 0.9748 - val_loss: 0.0882 - val_acc: 0.9737\n",
      "Epoch 4/12\n",
      "60000/60000 [==============================] - 19s - loss: 0.0632 - acc: 0.9814 - val_loss: 0.0392 - val_acc: 0.9881\n",
      "Epoch 5/12\n",
      "60000/60000 [==============================] - 19s - loss: 0.0461 - acc: 0.9866 - val_loss: 0.0411 - val_acc: 0.9883\n",
      "Epoch 6/12\n",
      "60000/60000 [==============================] - 19s - loss: 0.0381 - acc: 0.9889 - val_loss: 0.0632 - val_acc: 0.9793\n",
      "Epoch 7/12\n",
      "60000/60000 [==============================] - 19s - loss: 0.0307 - acc: 0.9908 - val_loss: 0.0625 - val_acc: 0.9821\n",
      "Epoch 8/12\n",
      "60000/60000 [==============================] - 19s - loss: 0.0250 - acc: 0.9924 - val_loss: 0.0318 - val_acc: 0.9911\n",
      "Epoch 9/12\n",
      "60000/60000 [==============================] - 19s - loss: 0.0219 - acc: 0.9937 - val_loss: 0.0484 - val_acc: 0.9879\n",
      "Epoch 10/12\n",
      "60000/60000 [==============================] - 19s - loss: 0.0166 - acc: 0.9953 - val_loss: 0.0369 - val_acc: 0.9904\n",
      "Epoch 11/12\n",
      "60000/60000 [==============================] - 19s - loss: 0.0159 - acc: 0.9950 - val_loss: 0.0305 - val_acc: 0.9921\n",
      "Epoch 12/12\n",
      "60000/60000 [==============================] - 19s - loss: 0.0122 - acc: 0.9963 - val_loss: 0.0361 - val_acc: 0.9915\n",
      "Test loss: 0.0361159658113\n",
      "Test accuracy: 0.9915\n"
     ]
    }
   ],
   "source": [
    "#build our model\n",
    "model = Sequential()\n",
    "#convolutional layer with rectified linear unit activation\n",
    "model.add(Conv2D(32, kernel_size=(3, 3),\n",
    "                 activation='relu',\n",
    "                 input_shape=input_shape))\n",
    "#again\n",
    "model.add(Conv2D(64, (3, 3), activation='relu'))\n",
    "model.add(Conv2D(64,(3,3),activation='relu'))\n",
    "model.add(MaxPooling2D(pool_size=(2,2)))\n",
    "\n",
    "#again\n",
    "model.add(Conv2D(128, (3, 3), activation='relu'))\n",
    "model.add(Conv2D(128,(3,3),activation='relu') )\n",
    "model.add(MaxPooling2D(pool_size=(2, 2)))\n",
    "\n",
    "model.add(Conv2D(512,(2,2),activation='relu'))\n",
    "model.add(Conv2D(512,(2,2),activation='relu'))\n",
    "#model.add(MaxPooling2D(pool_size=(2,2)))\n",
    "\n",
    "\n",
    "#model.add(Conv2D(512,(2,2),activation='relu'))\n",
    "#model.add(Conv2D(512,(2,2),activation='relu'))\n",
    "\n",
    "\n",
    "\n",
    "\n",
    "#again\n",
    "#model.add(Conv2D(128, (3, 3), activation='relu'))\n",
    "#model.add(Conv2D(128, (3, 3), activation='relu'))\n",
    "#model.add(MaxPooling2D(pool_size=(2, 2)))\n",
    "\n",
    "\n",
    "#output a softmax to squash the matrix into output probabilities\n",
    "#model.add(Dense(num_classes, activation='softmax'))\n",
    "\n",
    "model.add(Flatten())\n",
    "model.add(Dense(512, activation='relu'))\n",
    "model.add(Dropout(0.5))\n",
    "model.add(Dense(1024, activation='relu'))\n",
    "model.add(Dropout(0.5))\n",
    "\n",
    "\n",
    "model.add(Dense(num_classes,activation ='softmax'))\n",
    "\n",
    "\n",
    "#Adaptive learning rate (adaDelta) is a popular form of gradient descent rivaled only by adam and adagrad\n",
    "#categorical ce since we have multiple classes (10)\n",
    "model.compile(loss=keras.losses.categorical_crossentropy,\n",
    "              optimizer=keras.optimizers.Adadelta(),\n",
    "              metrics=['accuracy'])\n",
    "\n",
    "#train that ish!\n",
    "model.fit(x_train, y_train,\n",
    "          batch_size=batch_size,\n",
    "          epochs=epochs,\n",
    "          verbose=1,\n",
    "          validation_data=(x_test, y_test))\n",
    " #how well did it do?\n",
    "score = model.evaluate(x_test, y_test, verbose=0)\n",
    "print('Test loss:', score[0])\n",
    "print('Test accuracy:', score[1])\n",
    "\n",
    "\n"
   ]
  },
  {
   "cell_type": "code",
   "execution_count": 5,
   "metadata": {},
   "outputs": [
    {
     "name": "stdout",
     "output_type": "stream",
     "text": [
      "Saved model to disk\n"
     ]
    }
   ],
   "source": [
    "#Save the model\n",
    "# serialize model to JSON\n",
    "model_json = model.to_json()\n",
    "with open(\"model.json\", \"w\") as json_file:\n",
    "    json_file.write(model_json)\n",
    "# serialize weights to HDF5\n",
    "model.save_weights(\"model.h5\")\n",
    "print(\"Saved model to disk\")"
   ]
  },
  {
   "cell_type": "code",
   "execution_count": null,
   "metadata": {
    "collapsed": true
   },
   "outputs": [],
   "source": []
  }
 ],
 "metadata": {
  "kernelspec": {
   "display_name": "Python 3",
   "language": "python",
   "name": "python3"
  },
  "language_info": {
   "codemirror_mode": {
    "name": "ipython",
    "version": 3
   },
   "file_extension": ".py",
   "mimetype": "text/x-python",
   "name": "python",
   "nbconvert_exporter": "python",
   "pygments_lexer": "ipython3",
   "version": "3.5.3"
  }
 },
 "nbformat": 4,
 "nbformat_minor": 2
}
